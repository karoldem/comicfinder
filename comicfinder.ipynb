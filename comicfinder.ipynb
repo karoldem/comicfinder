{
  "cells": [
    {
      "cell_type": "markdown",
      "metadata": {
        "id": "view-in-github",
        "colab_type": "text"
      },
      "source": [
        "<a href=\"https://colab.research.google.com/github/karoldem/comicfinder/blob/master/comicfinder.ipynb\" target=\"_parent\"><img src=\"https://colab.research.google.com/assets/colab-badge.svg\" alt=\"Open In Colab\"/></a>"
      ]
    },
    {
      "cell_type": "markdown",
      "metadata": {
        "id": "E1k_jQWX87Ne"
      },
      "source": [
        "Dear reader,\n",
        "\n",
        "what you see is some unordered fragments of code to be stolen from.\n",
        "\n",
        "It is for webscraping comics pages, performing OCR on images and saving results to a file."
      ]
    },
    {
      "cell_type": "code",
      "execution_count": null,
      "metadata": {
        "colab": {
          "base_uri": "https://localhost:8080/"
        },
        "id": "UU91NI6Z80m_",
        "outputId": "d515b5e0-4277-4ef9-a69f-b251cac9c209"
      },
      "outputs": [
        {
          "output_type": "stream",
          "name": "stdout",
          "text": [
            "Reading package lists... Done\n",
            "Building dependency tree... Done\n",
            "Reading state information... Done\n",
            "tesseract-ocr is already the newest version (4.1.1-2.1build1).\n",
            "0 upgraded, 0 newly installed, 0 to remove and 35 not upgraded.\n",
            "Requirement already satisfied: pytesseract in /usr/local/lib/python3.10/dist-packages (0.3.10)\n",
            "Requirement already satisfied: packaging>=21.3 in /usr/local/lib/python3.10/dist-packages (from pytesseract) (23.2)\n",
            "Requirement already satisfied: Pillow>=8.0.0 in /usr/local/lib/python3.10/dist-packages (from pytesseract) (9.4.0)\n"
          ]
        }
      ],
      "source": [
        "!sudo apt install tesseract-ocr\n",
        "!pip install pytesseract"
      ]
    },
    {
      "cell_type": "code",
      "execution_count": null,
      "metadata": {
        "colab": {
          "base_uri": "https://localhost:8080/"
        },
        "id": "iT2fY7IyoWNk",
        "outputId": "ad02d3d6-f0cc-45d3-f294-c4d8341c7302"
      },
      "outputs": [
        {
          "output_type": "stream",
          "name": "stdout",
          "text": [
            "Mounted at /content/gdrive\n"
          ]
        }
      ],
      "source": [
        "from requests import get\n",
        "from bs4 import BeautifulSoup\n",
        "from pytesseract import image_to_string\n",
        "from json import load, dump\n",
        "from io import BytesIO\n",
        "import re\n",
        "\n",
        "try:\n",
        "    from PIL import Image\n",
        "except ImportError:\n",
        "    import Image\n",
        "\n",
        "savefile = True\n",
        "if savefile:\n",
        "    from google.colab import drive\n",
        "    drive.mount('/content/gdrive')\n",
        "\n",
        "class comicFinder:\n",
        "\n",
        "    databaseSource = '/content/gdrive/My Drive/comictranscriotion.txt'\n",
        "    reversedDatabaseSource = '/content/gdrive/My Drive/comictranscriotionreversed.txt'\n",
        "    blablahfile = '/content/gdrive/My Drive/blahblah.txt'\n",
        "\n",
        "    def appendToJSONFile(self,newKey, newValue):\n",
        "\n",
        "        with open(self.databaseSource, \"r\") as jsonFile:\n",
        "            data = load(jsonFile)\n",
        "\n",
        "        data[ newKey ] = newValue\n",
        "\n",
        "        with open(self.databaseSource, \"w\") as jsonFile:\n",
        "            dump(data, jsonFile)\n",
        "\n",
        "    def blahblahblah(self):\n",
        "        with open(self.databaseSource, \"r\") as jsonFile:\n",
        "            data = load(jsonFile)\n",
        "\n",
        "        toreturn = {}\n",
        "\n",
        "        flag = True\n",
        "\n",
        "        for i in data:\n",
        "            match = re.compile(r'[A-Za-z]+')\n",
        "            match = match.findall(data[i])\n",
        "            for j in match:\n",
        "                if j in toreturn: print('it is '+ i + ' ' + j + ' ' + str(match))\n",
        "                else: print(\"no, it's not \" + i + ' ' + j + ' ' + str(match))\n",
        "\n",
        "\n",
        "        with open(self.blablahfile, \"w\") as jsonFile:\n",
        "            dump(toreturn, jsonFile)\n",
        "\n",
        "\n",
        "\n",
        "    def extractText(self):\n",
        "\n",
        "      lastComicURL = self.lastComicChecked()\n",
        "      url = self.lastComicPosted()\n",
        "\n",
        "      while not url == lastComicURL:\n",
        "\n",
        "          comicElem = []\n",
        "\n",
        "          for i in range(2):\n",
        "            res = get(url)\n",
        "            res.raise_for_status()\n",
        "            soup = BeautifulSoup(res.text)\n",
        "            comicElem = self.getComicElem(soup)\n",
        "            if comicElem != []: break\n",
        "\n",
        "          if not comicElem == []:\n",
        "              try:\n",
        "                    comicUrl = self.getComicUrl(comicElem)\n",
        "                    res = get(comicUrl)\n",
        "                    res.raise_for_status()\n",
        "                    img = Image.open(BytesIO(res.content))\n",
        "\n",
        "                    comicText = image_to_string(img)\n",
        "                    self.appendToJSONFile(url,comicText.capitalize())\n",
        "\n",
        "              except Exception as e:\n",
        "                    print (e)\n",
        "\n",
        "          try:\n",
        "            url = self.selectNextComic(soup)\n",
        "          except:\n",
        "              break\n"
      ]
    },
    {
      "cell_type": "code",
      "execution_count": null,
      "metadata": {
        "colab": {
          "background_save": true
        },
        "id": "78ch4iHDM0fk",
        "outputId": "c2f0e8ad-e090-404e-e268-45a19d9c923e"
      },
      "outputs": [
        {
          "data": {
            "text/plain": [
              "{2: 3, 4: 5}"
            ]
          },
          "execution_count": 3,
          "metadata": {},
          "output_type": "execute_result"
        }
      ],
      "source": [
        "blah = comicFinder()\n",
        "print(\"\")\n",
        "print(blah.blahblahblah())\n",
        "print(\"\")"
      ]
    },
    {
      "cell_type": "code",
      "source": [
        "import re\n",
        "\n",
        "databaseSource = '/content/gdrive/My Drive/comictranscriotion.txt'\n",
        "\n",
        "with open(databaseSource, \"r\") as jsonFile:\n",
        "    data = load(jsonFile)\n",
        "\n",
        "wordDict = {}\n",
        "\n",
        "for link in data:\n",
        "\n",
        "    for word in re.findall(r\"[^\\W\\d_]+\", data[link]):\n",
        "        if word in wordDict:\n",
        "            wordDict[word].add(link)\n",
        "        else:\n",
        "            wordDict[word] = {link}\n"
      ],
      "metadata": {
        "id": "-TFicGwwepXP"
      },
      "execution_count": null,
      "outputs": []
    },
    {
      "cell_type": "code",
      "execution_count": null,
      "metadata": {
        "colab": {
          "background_save": true
        },
        "id": "F1XjKHFXvi_O"
      },
      "outputs": [],
      "source": [
        "class xkcd (comicFinder):\n",
        "\n",
        "    lastComicCheckedFakeFile = 'http://xkcd.com/2596/'\n",
        "\n",
        "    lastComicChecked = lambda self: self.lastComicCheckedFakeFile\n",
        "    def updateLastComicChecked (self, url): self.lastComicCheckedFakeFile = url\n",
        "\n",
        "    selectNextComic = lambda self, x :'http://xkcd.com' +  x.select('a[rel=\"prev\"]')[0].get('href')\n",
        "    selectPreviousComic = lambda self, x :'http://xkcd.com' +  x.select('a[rel=\"next\"]')[0].get('href')\n",
        "    getComicElem = lambda self, x : x.select('#comic img')\n",
        "    getComicUrl = lambda self, x: 'http:' + x[0].get('src')\n",
        "\n",
        "    def lastComicPosted(self):\n",
        "        res = get('http://xkcd.com/')\n",
        "        soup = BeautifulSoup(res.text)\n",
        "        url = self.selectNextComic(soup)\n",
        "        res = get(url)\n",
        "        soup = BeautifulSoup(res.text)\n",
        "        url = self.selectPreviousComic(soup)\n",
        "        self.updateLastComicChecked(url)\n",
        "        return url"
      ]
    },
    {
      "cell_type": "code",
      "execution_count": null,
      "metadata": {
        "colab": {
          "background_save": true
        },
        "id": "zGLB-1fb3i7d",
        "outputId": "2e4faf3f-53d0-498b-e192-b024282ea6ff"
      },
      "outputs": [
        {
          "data": {
            "application/vnd.google.colaboratory.intrinsic+json": {
              "type": "string"
            },
            "text/plain": [
              "'http://xkcd.com/2899/'"
            ]
          },
          "execution_count": 5,
          "metadata": {},
          "output_type": "execute_result"
        }
      ],
      "source": [
        "x = xkcd()\n",
        "x.extractText()\n",
        "x.lastComicCheckedFakeFile"
      ]
    },
    {
      "cell_type": "markdown",
      "metadata": {
        "id": "7SPCmennlkbl"
      },
      "source": [
        "# Archive"
      ]
    },
    {
      "cell_type": "code",
      "execution_count": null,
      "metadata": {
        "colab": {
          "background_save": true
        },
        "id": "Laq3n_rh_ENV"
      },
      "outputs": [],
      "source": [
        "import requests, os, bs4\n",
        "from io import BytesIO\n",
        "import pytesseract\n",
        "import shutil\n",
        "import os\n",
        "import random\n",
        "import json\n",
        "import operator\n",
        "\n",
        "try:\n",
        "    from PIL import Image\n",
        "except ImportError:\n",
        "    import Image\n",
        "\n",
        "savefile = False\n",
        "if savefile:\n",
        "    from google.colab import drive\n",
        "    drive.mount('/content/gdrive')\n",
        "\n",
        "def appendToJSONFile(newKey, newValue):\n",
        "\n",
        "    with open('/content/gdrive/My Drive/comictranscriotion.txt', \"r\") as jsonFile:\n",
        "        data = json.load(jsonFile)\n",
        "\n",
        "    data[ newKey ] = newValue\n",
        "\n",
        "    with open('/content/gdrive/My Drive/comictranscriotion.txt', \"w\") as jsonFile:\n",
        "        json.dump(data, jsonFile)\n",
        "\n",
        "\n",
        "class comicOCRer:\n",
        "\n",
        "\n",
        "    def __init__(self, pageUrl, firstComicURL, lastComicURL, findThoseWordsInText):\n",
        "\n",
        "        self.pageUrl = pageUrl\n",
        "        self.firstComicURL = firstComicURL\n",
        "        self.lastComicURL =  lastComicURL\n",
        "        self.findThoseWordsInText = findThoseWordsInText\n",
        "\n",
        "        if pageUrl == 'http://xkcd.com':\n",
        "            self.selectNextComic = lambda x : 'http://xkcd.com' + x.select('a[rel=\"prev\"]')[0].get('href')\n",
        "            self.selectPreviousComic = lambda x : 'http://xkcd.com' + x.select('a[rel=\"next\"]')[0].get('href')\n",
        "            self.getComicElem = lambda x : x.select('#comic img')\n",
        "            self.getComicUrl = lambda x: 'http:' + x[0].get('src')\n",
        "            self.checkLastComic = self.checkLastComicXkcd\n",
        "\n",
        "        if pageUrl == 'http://smbc-comics.com':\n",
        "            self.selectNextComic = lambda x : x.select('a[rel=\"prev\"]')[0].get('href')\n",
        "            self.selectPreviousComic = lambda x : x.select('a[rel=\"next\"]')[0].get('href')\n",
        "            self.getComicElem = lambda x : x.select('#cc-comicbody img')\n",
        "            self.getComicUrl = lambda x: x[0].get('src')\n",
        "            self.checkLastComic = self.checkLastComicXkcd\n",
        "\n",
        "\n",
        "    def run(self):\n",
        "        return self.extractText(\n",
        "                self.pageUrl,\n",
        "                self.firstComicURL,\n",
        "                self.lastComicURL,\n",
        "                self.findThoseWordsInText,\n",
        "                self.selectNextComic,\n",
        "                self.getComicElem)\n",
        "\n",
        "    turnOffOCR = False\n",
        "\n",
        "    def checkLastComicXkcd(self):\n",
        "        res = requests.get(self.pageUrl)\n",
        "        res.raise_for_status()\n",
        "        soup = bs4.BeautifulSoup(res.text)\n",
        "        url = self.selectNextComic(soup)\n",
        "        res = requests.get(url)\n",
        "        res.raise_for_status()\n",
        "        soup = bs4.BeautifulSoup(res.text)\n",
        "        return self.selectPreviousComic(soup)\n",
        "\n",
        "    def extractText(self, pageUrl, firstComicURL, lastComicURL, findThoseWordsInText, selectNextComic, getComicElem):\n",
        "\n",
        "      wordCounter = {}\n",
        "      transcription = {}\n",
        "      url = firstComicURL\n",
        "\n",
        "      while not url == lastComicURL:\n",
        "          comicElem = []\n",
        "          for i in range(2):\n",
        "            res = requests.get(url)\n",
        "            res.raise_for_status()\n",
        "            soup = bs4.BeautifulSoup(res.text)\n",
        "            comicElem = self.getComicElem(soup)\n",
        "            if comicElem != []: break\n",
        "\n",
        "          if comicElem == []:\n",
        "              wordCounter[url] = 0\n",
        "          else:\n",
        "              try:\n",
        "                    comicUrl = self.getComicUrl(comicElem)\n",
        "                    res = requests.get(comicUrl)\n",
        "                    res.raise_for_status()\n",
        "                    img = Image.open(BytesIO(res.content))\n",
        "\n",
        "                    if not self.turnOffOCR:\n",
        "                      comicText = pytesseract.image_to_string(img)\n",
        "                      if savefile:\n",
        "                        appendToJSONFile(url,comicText.capitalize())\n",
        "                      transcription[url] = comicText.capitalize()\n",
        "\n",
        "                      for i in findThoseWordsInText:\n",
        "                        if i in comicText:\n",
        "\n",
        "                          try:\n",
        "                            wordCounter[url] +=1\n",
        "                          except:\n",
        "                            wordCounter[url] = 1\n",
        "                    else:\n",
        "                      print (url)\n",
        "\n",
        "              except Exception as e:\n",
        "                    wordCounter[url] = 0\n",
        "                    print(e)\n",
        "\n",
        "\n",
        "          try:\n",
        "            url = selectNextComic(soup)\n",
        "          except:\n",
        "              break\n",
        "\n",
        "\n",
        "      wordCounter = sorted(wordCounter.items(), key=operator.itemgetter(1), reverse=True)\n",
        "      return wordCounter"
      ]
    },
    {
      "cell_type": "code",
      "execution_count": null,
      "metadata": {
        "colab": {
          "background_save": true
        },
        "id": "c0Ioa1YL_zlR",
        "outputId": "c8c87348-2edc-4d4d-930b-47f3e7e604a9"
      },
      "outputs": [
        {
          "data": {
            "text/plain": [
              "[('https://www.smbc-comics.com/comic/cast', 1),\n",
              " ('https://www.smbc-comics.com/comic/a-city-on-mars-2', 1),\n",
              " ('https://www.smbc-comics.com/comic/rite', 1),\n",
              " ('https://www.smbc-comics.com/comic/dev', 1),\n",
              " ('https://www.smbc-comics.com/comic/the-painting', 1),\n",
              " ('https://www.smbc-comics.com/comic/bea-wolf', 1),\n",
              " ('https://www.smbc-comics.com/comic/citation', 1),\n",
              " ('https://www.smbc-comics.com/comic/circling', 1),\n",
              " ('https://www.smbc-comics.com/comic/priority', 1),\n",
              " ('https://www.smbc-comics.com/comic/freaks', 1)]"
            ]
          },
          "execution_count": 7,
          "metadata": {},
          "output_type": "execute_result"
        }
      ],
      "source": [
        "comicOCRer(\n",
        "    pageUrl = 'http://smbc-comics.com',\n",
        "    firstComicURL = 'http://smbc-comics.com',\n",
        "    lastComicURL = 'https://www.smbc-comics.com/comic/i',\n",
        "    findThoseWordsInText = ['direct', 'cultural', 'some', 'countries']\n",
        "    ).run()"
      ]
    },
    {
      "cell_type": "code",
      "execution_count": null,
      "metadata": {
        "id": "elXnfufY_2yD"
      },
      "outputs": [],
      "source": [
        "comicOCRer(\n",
        "    pageUrl = 'http://xkcd.com',\n",
        "    firstComicURL = 'https://xkcd.com',\n",
        "    lastComicURL = 'hsdfghjkiuytgf',\n",
        "    findThoseWordsInText = []\n",
        "    ).run()"
      ]
    }
  ],
  "metadata": {
    "colab": {
      "provenance": [],
      "authorship_tag": "ABX9TyN6jrEcC6y86I798hVOG5pA",
      "include_colab_link": true
    },
    "kernelspec": {
      "display_name": "Python 3",
      "name": "python3"
    },
    "language_info": {
      "name": "python"
    }
  },
  "nbformat": 4,
  "nbformat_minor": 0
}