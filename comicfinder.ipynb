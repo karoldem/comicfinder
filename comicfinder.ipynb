{
  "nbformat": 4,
  "nbformat_minor": 0,
  "metadata": {
    "colab": {
      "name": "comicfinder.ipynb",
      "provenance": [],
      "authorship_tag": "ABX9TyOvpe2TlKE1Etf+j+KRLLl8",
      "include_colab_link": true
    },
    "kernelspec": {
      "name": "python3",
      "display_name": "Python 3"
    },
    "language_info": {
      "name": "python"
    }
  },
  "cells": [
    {
      "cell_type": "markdown",
      "metadata": {
        "id": "view-in-github",
        "colab_type": "text"
      },
      "source": [
        "<a href=\"https://colab.research.google.com/github/karoldem/comicfinder/blob/master/comicfinder.ipynb\" target=\"_parent\"><img src=\"https://colab.research.google.com/assets/colab-badge.svg\" alt=\"Open In Colab\"/></a>"
      ]
    },
    {
      "cell_type": "markdown",
      "source": [
        "Dear reader,\n",
        "\n",
        "what you see is some unordered fragments of code to be stolen from.\n",
        "\n",
        "It is for webscraping comics pages, performing OCR on images and saving results to a file."
      ],
      "metadata": {
        "id": "E1k_jQWX87Ne"
      }
    },
    {
      "cell_type": "code",
      "execution_count": null,
      "metadata": {
        "id": "UU91NI6Z80m_"
      },
      "outputs": [],
      "source": [
        "!sudo apt install tesseract-ocr\n",
        "!pip install pytesseract"
      ]
    },
    {
      "cell_type": "code",
      "source": [
        "import requests, os, bs4\n",
        "from io import BytesIO\n",
        "import pytesseract\n",
        "import shutil\n",
        "import os\n",
        "import random\n",
        "import json\n",
        "import operator\n",
        "\n",
        "try:\n",
        "    from PIL import Image\n",
        "except ImportError:\n",
        "    import Image\n",
        "\n",
        "savefile = False\n",
        "if savefile:\n",
        "    from google.colab import drive\n",
        "    drive.mount('/content/gdrive')\n",
        "\n",
        "def appendToJSONFile(newKey, newValue):\n",
        "\n",
        "    with open('/content/gdrive/My Drive/comictranscriotion.txt', \"r\") as jsonFile:\n",
        "        data = json.load(jsonFile)\n",
        "\n",
        "    data[ newKey ] = newValue\n",
        "    \n",
        "    with open('/content/gdrive/My Drive/comictranscriotion.txt', \"w\") as jsonFile:\n",
        "        json.dump(data, jsonFile)\n",
        "\n",
        "\n",
        "class comicOCRer:\n",
        "\n",
        "\n",
        "    def __init__(self, pageUrl, firstComicURL, lastComicURL, findThoseWordsInText):\n",
        "        \n",
        "        self.pageUrl = pageUrl\n",
        "        self.firstComicURL = firstComicURL\n",
        "        self.lastComicURL =  lastComicURL\n",
        "        self.findThoseWordsInText = findThoseWordsInText\n",
        "        \n",
        "        if pageUrl == 'http://xkcd.com':\n",
        "            self.selectNextComic = lambda x : 'http://xkcd.com' + x.select('a[rel=\"prev\"]')[0].get('href')\n",
        "            self.selectPreviousComic = lambda x : 'http://xkcd.com' + x.select('a[rel=\"next\"]')[0].get('href')\n",
        "            self.getComicElem = lambda x : x.select('#comic img')\n",
        "            self.getComicUrl = lambda x: 'http:' + x[0].get('src')\n",
        "            self.checkLastComic = self.checkLastComicXkcd\n",
        "\n",
        "        if pageUrl == 'http://smbc-comics.com':\n",
        "            self.selectNextComic = lambda x : x.select('a[rel=\"prev\"]')[0].get('href')\n",
        "            self.selectPreviousComic = lambda x : x.select('a[rel=\"next\"]')[0].get('href')\n",
        "            self.getComicElem = lambda x : x.select('#cc-comicbody img')\n",
        "            self.getComicUrl = lambda x: x[0].get('src')\n",
        "            self.checkLastComic = self.checkLastComicXkcd\n",
        "\n",
        "\n",
        "    def run(self):\n",
        "        return self.extractText(\n",
        "                self.pageUrl, \n",
        "                self.firstComicURL, \n",
        "                self.lastComicURL, \n",
        "                self.findThoseWordsInText, \n",
        "                self.selectNextComic,\n",
        "                self.getComicElem)\n",
        "\n",
        "    turnOffOCR = False\n",
        "    \n",
        "    def checkLastComicXkcd(self):\n",
        "        res = requests.get(self.pageUrl)\n",
        "        res.raise_for_status()\n",
        "        soup = bs4.BeautifulSoup(res.text)\n",
        "        url = self.selectNextComic(soup)\n",
        "        res = requests.get(url)\n",
        "        res.raise_for_status()\n",
        "        soup = bs4.BeautifulSoup(res.text)\n",
        "        return self.selectPreviousComic(soup)\n",
        "\n",
        "    def extractText(self, pageUrl, firstComicURL, lastComicURL, findThoseWordsInText, selectNextComic, getComicElem):\n",
        "\n",
        "      wordCounter = {}\n",
        "      transcription = {}\n",
        "      url = firstComicURL\n",
        "\n",
        "      while not url == lastComicURL:\n",
        "          comicElem = []\n",
        "          for i in range(2):\n",
        "            res = requests.get(url)\n",
        "            res.raise_for_status()\n",
        "            soup = bs4.BeautifulSoup(res.text)\n",
        "            comicElem = self.getComicElem(soup)\n",
        "            if comicElem != []: break\n",
        "            \n",
        "          if comicElem == []:\n",
        "              wordCounter[url] = 0\n",
        "          else:\n",
        "              try:\n",
        "                    comicUrl = self.getComicUrl(comicElem)\n",
        "                    res = requests.get(comicUrl)\n",
        "                    res.raise_for_status()\n",
        "                    img = Image.open(BytesIO(res.content))\n",
        "\n",
        "                    if not self.turnOffOCR:\n",
        "                      comicText = pytesseract.image_to_string(img)\n",
        "                      if savefile:\n",
        "                        appendToJSONFile(url,comicText.capitalize())\n",
        "                      transcription[url] = comicText.capitalize()\n",
        "\n",
        "                      for i in findThoseWordsInText:\n",
        "                        if i in comicText:\n",
        "\n",
        "                          try:\n",
        "                            wordCounter[url] +=1\n",
        "                          except:\n",
        "                            wordCounter[url] = 1\n",
        "                    else:\n",
        "                      print (url)\n",
        "\n",
        "              except Exception as e:\n",
        "                    wordCounter[url] = 0\n",
        "                    print(e)\n",
        "\n",
        "\n",
        "          try: \n",
        "            url = selectNextComic(soup)\n",
        "          except:\n",
        "              break\n",
        "      \n",
        "      \n",
        "      wordCounter = sorted(wordCounter.items(), key=operator.itemgetter(1), reverse=True)\n",
        "      return wordCounter"
      ],
      "metadata": {
        "id": "Laq3n_rh_ENV"
      },
      "execution_count": 1,
      "outputs": []
    },
    {
      "cell_type": "code",
      "source": [
        "comicOCRer(\n",
        "    pageUrl = 'http://smbc-comics.com',\n",
        "    firstComicURL = 'http://smbc-comics.com',\n",
        "    lastComicURL = 'https://www.smbc-comics.com/comic/i',\n",
        "    findThoseWordsInText = ['direct', 'cultural', 'some', 'countries']\n",
        "    ).run()"
      ],
      "metadata": {
        "colab": {
          "base_uri": "https://localhost:8080/"
        },
        "id": "c0Ioa1YL_zlR",
        "outputId": "520b3acd-c3a9-4975-84c3-8b701230f234"
      },
      "execution_count": 3,
      "outputs": [
        {
          "output_type": "execute_result",
          "data": {
            "text/plain": [
              "[]"
            ]
          },
          "metadata": {},
          "execution_count": 3
        }
      ]
    },
    {
      "cell_type": "code",
      "source": [
        "comicOCRer(\n",
        "    pageUrl = 'http://xkcd.com',\n",
        "    firstComicURL = 'https://xkcd.com',\n",
        "    lastComicURL = 'hsdfghjkiuytgf',\n",
        "    findThoseWordsInText = []\n",
        "    ).run()"
      ],
      "metadata": {
        "id": "elXnfufY_2yD"
      },
      "execution_count": null,
      "outputs": []
    }
  ]
}