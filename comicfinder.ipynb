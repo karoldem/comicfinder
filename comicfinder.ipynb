{
  "nbformat": 4,
  "nbformat_minor": 0,
  "metadata": {
    "colab": {
      "name": "comicfinder.ipynb",
      "provenance": [],
      "authorship_tag": "ABX9TyM23mqW6Z/FuB9RPgi02XRU",
      "include_colab_link": true
    },
    "kernelspec": {
      "name": "python3",
      "display_name": "Python 3"
    },
    "language_info": {
      "name": "python"
    }
  },
  "cells": [
    {
      "cell_type": "markdown",
      "metadata": {
        "id": "view-in-github",
        "colab_type": "text"
      },
      "source": [
        "<a href=\"https://colab.research.google.com/github/karoldem/comicfinder/blob/master/comicfinder.ipynb\" target=\"_parent\"><img src=\"https://colab.research.google.com/assets/colab-badge.svg\" alt=\"Open In Colab\"/></a>"
      ]
    },
    {
      "cell_type": "markdown",
      "source": [
        "Dear reader,\n",
        "\n",
        "what you see is some unordered fragments of code to be stolen from.\n",
        "\n",
        "It is for webscraping comics pages, performing OCR on images and saving results to a file."
      ],
      "metadata": {
        "id": "E1k_jQWX87Ne"
      }
    },
    {
      "cell_type": "code",
      "execution_count": 1,
      "metadata": {
        "id": "UU91NI6Z80m_",
        "colab": {
          "base_uri": "https://localhost:8080/",
          "height": 991
        },
        "outputId": "ad522de0-7884-4bf1-a07b-68bfaa67a675"
      },
      "outputs": [
        {
          "output_type": "stream",
          "name": "stdout",
          "text": [
            "Reading package lists... Done\n",
            "Building dependency tree       \n",
            "Reading state information... Done\n",
            "The following additional packages will be installed:\n",
            "  tesseract-ocr-eng tesseract-ocr-osd\n",
            "The following NEW packages will be installed:\n",
            "  tesseract-ocr tesseract-ocr-eng tesseract-ocr-osd\n",
            "0 upgraded, 3 newly installed, 0 to remove and 39 not upgraded.\n",
            "Need to get 4,795 kB of archives.\n",
            "After this operation, 15.8 MB of additional disk space will be used.\n",
            "Get:1 http://archive.ubuntu.com/ubuntu bionic/universe amd64 tesseract-ocr-eng all 4.00~git24-0e00fe6-1.2 [1,588 kB]\n",
            "Get:2 http://archive.ubuntu.com/ubuntu bionic/universe amd64 tesseract-ocr-osd all 4.00~git24-0e00fe6-1.2 [2,989 kB]\n",
            "Get:3 http://archive.ubuntu.com/ubuntu bionic/universe amd64 tesseract-ocr amd64 4.00~git2288-10f4998a-2 [218 kB]\n",
            "Fetched 4,795 kB in 1s (5,254 kB/s)\n",
            "debconf: unable to initialize frontend: Dialog\n",
            "debconf: (No usable dialog-like program is installed, so the dialog based frontend cannot be used. at /usr/share/perl5/Debconf/FrontEnd/Dialog.pm line 76, <> line 3.)\n",
            "debconf: falling back to frontend: Readline\n",
            "debconf: unable to initialize frontend: Readline\n",
            "debconf: (This frontend requires a controlling tty.)\n",
            "debconf: falling back to frontend: Teletype\n",
            "dpkg-preconfigure: unable to re-open stdin: \n",
            "Selecting previously unselected package tesseract-ocr-eng.\n",
            "(Reading database ... 156210 files and directories currently installed.)\n",
            "Preparing to unpack .../tesseract-ocr-eng_4.00~git24-0e00fe6-1.2_all.deb ...\n",
            "Unpacking tesseract-ocr-eng (4.00~git24-0e00fe6-1.2) ...\n",
            "Selecting previously unselected package tesseract-ocr-osd.\n",
            "Preparing to unpack .../tesseract-ocr-osd_4.00~git24-0e00fe6-1.2_all.deb ...\n",
            "Unpacking tesseract-ocr-osd (4.00~git24-0e00fe6-1.2) ...\n",
            "Selecting previously unselected package tesseract-ocr.\n",
            "Preparing to unpack .../tesseract-ocr_4.00~git2288-10f4998a-2_amd64.deb ...\n",
            "Unpacking tesseract-ocr (4.00~git2288-10f4998a-2) ...\n",
            "Setting up tesseract-ocr-osd (4.00~git24-0e00fe6-1.2) ...\n",
            "Setting up tesseract-ocr-eng (4.00~git24-0e00fe6-1.2) ...\n",
            "Setting up tesseract-ocr (4.00~git2288-10f4998a-2) ...\n",
            "Processing triggers for man-db (2.8.3-2ubuntu0.1) ...\n",
            "Collecting pytesseract\n",
            "  Downloading pytesseract-0.3.9-py2.py3-none-any.whl (14 kB)\n",
            "Collecting Pillow>=8.0.0\n",
            "  Downloading Pillow-9.0.1-cp37-cp37m-manylinux_2_17_x86_64.manylinux2014_x86_64.whl (4.3 MB)\n",
            "\u001b[K     |████████████████████████████████| 4.3 MB 29.3 MB/s \n",
            "\u001b[?25hRequirement already satisfied: packaging>=21.3 in /usr/local/lib/python3.7/dist-packages (from pytesseract) (21.3)\n",
            "Requirement already satisfied: pyparsing!=3.0.5,>=2.0.2 in /usr/local/lib/python3.7/dist-packages (from packaging>=21.3->pytesseract) (3.0.7)\n",
            "Installing collected packages: Pillow, pytesseract\n",
            "  Attempting uninstall: Pillow\n",
            "    Found existing installation: Pillow 7.1.2\n",
            "    Uninstalling Pillow-7.1.2:\n",
            "      Successfully uninstalled Pillow-7.1.2\n",
            "\u001b[31mERROR: pip's dependency resolver does not currently take into account all the packages that are installed. This behaviour is the source of the following dependency conflicts.\n",
            "albumentations 0.1.12 requires imgaug<0.2.7,>=0.2.5, but you have imgaug 0.2.9 which is incompatible.\u001b[0m\n",
            "Successfully installed Pillow-9.0.1 pytesseract-0.3.9\n"
          ]
        },
        {
          "output_type": "display_data",
          "data": {
            "application/vnd.colab-display-data+json": {
              "pip_warning": {
                "packages": [
                  "PIL"
                ]
              }
            }
          },
          "metadata": {}
        }
      ],
      "source": [
        "!sudo apt install tesseract-ocr\n",
        "!pip install pytesseract"
      ]
    },
    {
      "cell_type": "code",
      "source": [
        "from requests import get\n",
        "from bs4 import BeautifulSoup\n",
        "from pytesseract import image_to_string\n",
        "from json import load, dump\n",
        "from io import BytesIO\n",
        "\n",
        "try:\n",
        "    from PIL import Image\n",
        "except ImportError:\n",
        "    import Image\n",
        "\n",
        "savefile = True\n",
        "if savefile:\n",
        "    from google.colab import drive\n",
        "    drive.mount('/content/gdrive')\n",
        "\n",
        "class comicFinder:\n",
        "    \n",
        "    databaseSource = '/content/gdrive/My Drive/comictranscriotion.txt'\n",
        "\n",
        "    def appendToJSONFile(self,newKey, newValue):\n",
        "\n",
        "        with open(self.databaseSource, \"r\") as jsonFile:\n",
        "            data = load(jsonFile)\n",
        "\n",
        "        data[ newKey ] = newValue\n",
        "        \n",
        "        with open(self.databaseSource, \"w\") as jsonFile:\n",
        "            dump(data, jsonFile)\n",
        "\n",
        "    def extractText(self):\n",
        "      \n",
        "      lastComicURL = self.lastComicChecked()\n",
        "      url = self.lastComicPosted()\n",
        "\n",
        "      while not url == lastComicURL:\n",
        "          \n",
        "          comicElem = []\n",
        "\n",
        "          for i in range(2):\n",
        "            res = get(url)\n",
        "            res.raise_for_status()\n",
        "            soup = BeautifulSoup(res.text)\n",
        "            comicElem = self.getComicElem(soup)\n",
        "            if comicElem != []: break\n",
        "\n",
        "          if not comicElem == []:\n",
        "              try:\n",
        "                    comicUrl = self.getComicUrl(comicElem)\n",
        "                    res = get(comicUrl)\n",
        "                    res.raise_for_status()\n",
        "                    img = Image.open(BytesIO(res.content))\n",
        "\n",
        "                    comicText = image_to_string(img)\n",
        "                    self.appendToJSONFile(url,comicText.capitalize())\n",
        "\n",
        "              except Exception as e:\n",
        "                    print (e)\n",
        "\n",
        "          try: \n",
        "            url = self.selectNextComic(soup)\n",
        "          except:\n",
        "              break\n",
        "\n"
      ],
      "metadata": {
        "id": "iT2fY7IyoWNk",
        "colab": {
          "base_uri": "https://localhost:8080/"
        },
        "outputId": "7031c7f5-03bc-41e3-eb8a-ab8687faa6d5"
      },
      "execution_count": 3,
      "outputs": [
        {
          "output_type": "stream",
          "name": "stdout",
          "text": [
            "Drive already mounted at /content/gdrive; to attempt to forcibly remount, call drive.mount(\"/content/gdrive\", force_remount=True).\n"
          ]
        }
      ]
    },
    {
      "cell_type": "code",
      "source": [
        "class xkcd (comicFinder):\n",
        "\n",
        "    lastComicCheckedFakeFile = 'http://xkcd.com/2596/'\n",
        "\n",
        "    lastComicChecked = lambda self: self.lastComicCheckedFakeFile\n",
        "    def updateLastComicChecked (self, url): self.lastComicCheckedFakeFile = url\n",
        "\n",
        "    selectNextComic = lambda self, x :'http://xkcd.com' +  x.select('a[rel=\"prev\"]')[0].get('href')\n",
        "    selectPreviousComic = lambda self, x :'http://xkcd.com' +  x.select('a[rel=\"next\"]')[0].get('href')\n",
        "    getComicElem = lambda self, x : x.select('#comic img')\n",
        "    getComicUrl = lambda self, x: 'http:' + x[0].get('src')\n",
        "\n",
        "    def lastComicPosted(self):\n",
        "        res = get('http://xkcd.com/')\n",
        "        soup = BeautifulSoup(res.text)\n",
        "        url = self.selectNextComic(soup)\n",
        "        res = get(url)\n",
        "        soup = BeautifulSoup(res.text)\n",
        "        url = self.selectPreviousComic(soup)\n",
        "        self.updateLastComicChecked(url)\n",
        "        return url"
      ],
      "metadata": {
        "id": "F1XjKHFXvi_O"
      },
      "execution_count": 7,
      "outputs": []
    },
    {
      "cell_type": "code",
      "source": [
        "x = xkcd()\n",
        "x.extractText()\n",
        "x.lastComicCheckedFakeFile"
      ],
      "metadata": {
        "colab": {
          "base_uri": "https://localhost:8080/",
          "height": 35
        },
        "id": "zGLB-1fb3i7d",
        "outputId": "4251129f-fa85-4a81-8ea7-77f90e5be654"
      },
      "execution_count": 9,
      "outputs": [
        {
          "output_type": "execute_result",
          "data": {
            "text/plain": [
              "'http://xkcd.com/2597/'"
            ],
            "application/vnd.google.colaboratory.intrinsic+json": {
              "type": "string"
            }
          },
          "metadata": {},
          "execution_count": 9
        }
      ]
    },
    {
      "cell_type": "markdown",
      "source": [
        "# Archive"
      ],
      "metadata": {
        "id": "7SPCmennlkbl"
      }
    },
    {
      "cell_type": "code",
      "source": [
        "import requests, os, bs4\n",
        "from io import BytesIO\n",
        "import pytesseract\n",
        "import shutil\n",
        "import os\n",
        "import random\n",
        "import json\n",
        "import operator\n",
        "\n",
        "try:\n",
        "    from PIL import Image\n",
        "except ImportError:\n",
        "    import Image\n",
        "\n",
        "savefile = False\n",
        "if savefile:\n",
        "    from google.colab import drive\n",
        "    drive.mount('/content/gdrive')\n",
        "\n",
        "def appendToJSONFile(newKey, newValue):\n",
        "\n",
        "    with open('/content/gdrive/My Drive/comictranscriotion.txt', \"r\") as jsonFile:\n",
        "        data = json.load(jsonFile)\n",
        "\n",
        "    data[ newKey ] = newValue\n",
        "    \n",
        "    with open('/content/gdrive/My Drive/comictranscriotion.txt', \"w\") as jsonFile:\n",
        "        json.dump(data, jsonFile)\n",
        "\n",
        "\n",
        "class comicOCRer:\n",
        "\n",
        "\n",
        "    def __init__(self, pageUrl, firstComicURL, lastComicURL, findThoseWordsInText):\n",
        "        \n",
        "        self.pageUrl = pageUrl\n",
        "        self.firstComicURL = firstComicURL\n",
        "        self.lastComicURL =  lastComicURL\n",
        "        self.findThoseWordsInText = findThoseWordsInText\n",
        "        \n",
        "        if pageUrl == 'http://xkcd.com':\n",
        "            self.selectNextComic = lambda x : 'http://xkcd.com' + x.select('a[rel=\"prev\"]')[0].get('href')\n",
        "            self.selectPreviousComic = lambda x : 'http://xkcd.com' + x.select('a[rel=\"next\"]')[0].get('href')\n",
        "            self.getComicElem = lambda x : x.select('#comic img')\n",
        "            self.getComicUrl = lambda x: 'http:' + x[0].get('src')\n",
        "            self.checkLastComic = self.checkLastComicXkcd\n",
        "\n",
        "        if pageUrl == 'http://smbc-comics.com':\n",
        "            self.selectNextComic = lambda x : x.select('a[rel=\"prev\"]')[0].get('href')\n",
        "            self.selectPreviousComic = lambda x : x.select('a[rel=\"next\"]')[0].get('href')\n",
        "            self.getComicElem = lambda x : x.select('#cc-comicbody img')\n",
        "            self.getComicUrl = lambda x: x[0].get('src')\n",
        "            self.checkLastComic = self.checkLastComicXkcd\n",
        "\n",
        "\n",
        "    def run(self):\n",
        "        return self.extractText(\n",
        "                self.pageUrl, \n",
        "                self.firstComicURL, \n",
        "                self.lastComicURL, \n",
        "                self.findThoseWordsInText, \n",
        "                self.selectNextComic,\n",
        "                self.getComicElem)\n",
        "\n",
        "    turnOffOCR = False\n",
        "    \n",
        "    def checkLastComicXkcd(self):\n",
        "        res = requests.get(self.pageUrl)\n",
        "        res.raise_for_status()\n",
        "        soup = bs4.BeautifulSoup(res.text)\n",
        "        url = self.selectNextComic(soup)\n",
        "        res = requests.get(url)\n",
        "        res.raise_for_status()\n",
        "        soup = bs4.BeautifulSoup(res.text)\n",
        "        return self.selectPreviousComic(soup)\n",
        "\n",
        "    def extractText(self, pageUrl, firstComicURL, lastComicURL, findThoseWordsInText, selectNextComic, getComicElem):\n",
        "\n",
        "      wordCounter = {}\n",
        "      transcription = {}\n",
        "      url = firstComicURL\n",
        "\n",
        "      while not url == lastComicURL:\n",
        "          comicElem = []\n",
        "          for i in range(2):\n",
        "            res = requests.get(url)\n",
        "            res.raise_for_status()\n",
        "            soup = bs4.BeautifulSoup(res.text)\n",
        "            comicElem = self.getComicElem(soup)\n",
        "            if comicElem != []: break\n",
        "            \n",
        "          if comicElem == []:\n",
        "              wordCounter[url] = 0\n",
        "          else:\n",
        "              try:\n",
        "                    comicUrl = self.getComicUrl(comicElem)\n",
        "                    res = requests.get(comicUrl)\n",
        "                    res.raise_for_status()\n",
        "                    img = Image.open(BytesIO(res.content))\n",
        "\n",
        "                    if not self.turnOffOCR:\n",
        "                      comicText = pytesseract.image_to_string(img)\n",
        "                      if savefile:\n",
        "                        appendToJSONFile(url,comicText.capitalize())\n",
        "                      transcription[url] = comicText.capitalize()\n",
        "\n",
        "                      for i in findThoseWordsInText:\n",
        "                        if i in comicText:\n",
        "\n",
        "                          try:\n",
        "                            wordCounter[url] +=1\n",
        "                          except:\n",
        "                            wordCounter[url] = 1\n",
        "                    else:\n",
        "                      print (url)\n",
        "\n",
        "              except Exception as e:\n",
        "                    wordCounter[url] = 0\n",
        "                    print(e)\n",
        "\n",
        "\n",
        "          try: \n",
        "            url = selectNextComic(soup)\n",
        "          except:\n",
        "              break\n",
        "      \n",
        "      \n",
        "      wordCounter = sorted(wordCounter.items(), key=operator.itemgetter(1), reverse=True)\n",
        "      return wordCounter"
      ],
      "metadata": {
        "id": "Laq3n_rh_ENV"
      },
      "execution_count": null,
      "outputs": []
    },
    {
      "cell_type": "code",
      "source": [
        "comicOCRer(\n",
        "    pageUrl = 'http://smbc-comics.com',\n",
        "    firstComicURL = 'http://smbc-comics.com',\n",
        "    lastComicURL = 'https://www.smbc-comics.com/comic/i',\n",
        "    findThoseWordsInText = ['direct', 'cultural', 'some', 'countries']\n",
        "    ).run()"
      ],
      "metadata": {
        "colab": {
          "base_uri": "https://localhost:8080/"
        },
        "id": "c0Ioa1YL_zlR",
        "outputId": "520b3acd-c3a9-4975-84c3-8b701230f234"
      },
      "execution_count": null,
      "outputs": [
        {
          "output_type": "execute_result",
          "data": {
            "text/plain": [
              "[]"
            ]
          },
          "metadata": {},
          "execution_count": 3
        }
      ]
    },
    {
      "cell_type": "code",
      "source": [
        "comicOCRer(\n",
        "    pageUrl = 'http://xkcd.com',\n",
        "    firstComicURL = 'https://xkcd.com',\n",
        "    lastComicURL = 'hsdfghjkiuytgf',\n",
        "    findThoseWordsInText = []\n",
        "    ).run()"
      ],
      "metadata": {
        "id": "elXnfufY_2yD"
      },
      "execution_count": null,
      "outputs": []
    }
  ]
}